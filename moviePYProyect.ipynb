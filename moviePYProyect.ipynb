{
 "cells": [
  {
   "cell_type": "code",
   "execution_count": null,
   "id": "42f7068a-fe1e-4381-9231-4d72397570ee",
   "metadata": {},
   "outputs": [],
   "source": [
    "#Run me first!\n",
    "!pip install ffmpeg moviepy==1.0.3 notebook"
   ]
  },
  {
   "cell_type": "code",
   "execution_count": null,
   "id": "0463dc73-622e-443a-81be-41948feb323c",
   "metadata": {},
   "outputs": [],
   "source": [
    "#Run as soon as the first block has finished !\n",
    "from IPython.display import Video, Audio\n",
    "\n",
    "def cat_run_show (scriptname, infname, outfname):\n",
    "    %pycat {scriptname}\n",
    "    %run {scriptname} {infname} {outfname}\n",
    "    return Video(outfname,embed=True,width=680)\n"
   ]
  },
  {
   "cell_type": "code",
   "execution_count": null,
   "id": "00ba727f-0783-411f-9cda-7b82c0df39b5",
   "metadata": {},
   "outputs": [],
   "source": [
    "#video 1\n",
    "Video(\"input/Clip1.mp4\",embed=True,width=680)"
   ]
  },
  {
   "cell_type": "code",
   "execution_count": null,
   "id": "2f76ba0c-e7c4-4794-92ff-eb6877e2a18b",
   "metadata": {},
   "outputs": [],
   "source": [
    "#video 2\n",
    "Video(\"input/Clip2.mp4\",embed=True,width=680)"
   ]
  },
  {
   "cell_type": "code",
   "execution_count": null,
   "id": "328bc28f-38b3-460f-a014-825359b77510",
   "metadata": {},
   "outputs": [],
   "source": [
    "#video 1 speedup X2\n",
    "cat_run_show(\"scripts/speedup.py\",infname=\"input/Clip1.mp4\",outfname=\"output/Clip1SpeedX2.mp4\")"
   ]
  },
  {
   "cell_type": "code",
   "execution_count": null,
   "id": "fe274d09-662b-48eb-88a2-c90b6bee4293",
   "metadata": {},
   "outputs": [],
   "source": [
    "#video 2 speedup X2\n",
    "cat_run_show(\"scripts/speedup.py\",infname=\"input/Clip2.mp4\",outfname=\"output/Clip2SpeedX2.mp4\")"
   ]
  },
  {
   "cell_type": "code",
   "execution_count": null,
   "id": "4474564b-a00b-485c-9fec-a88494eabbb4",
   "metadata": {},
   "outputs": [],
   "source": [
    "#video 1 with volume turned up x3.0\n",
    "cat_run_show(\"scripts/volume.py\",infname=\"input/Clip1.mp4\",outfname=\"output/Clip1VolX3.mp4\")"
   ]
  },
  {
   "cell_type": "code",
   "execution_count": null,
   "id": "70607ad7-a037-4b17-8943-36e1c34b8eee",
   "metadata": {},
   "outputs": [],
   "source": [
    "#video 2 with volume turned up x3.0\n",
    "cat_run_show(\"scripts/volume.py\",infname=\"input/Clip2.mp4\",outfname=\"output/Clip2VolX3.mp4\")"
   ]
  },
  {
   "cell_type": "code",
   "execution_count": null,
   "id": "35dc54db-3fe0-40fa-8548-3cfed71b8c83",
   "metadata": {},
   "outputs": [],
   "source": [
    "#Array 1X2 first video is clip 1 in x2.0 speed and the second is clip 2 volume up x 3.0\n",
    "cat_run_show(\"scripts/stacking_withClip2VolX3.py\",infname=\"output/Clip1SpeedX2.mp4\",outfname=\"output/Clip1_Clip2_arr1X2.mp4\")"
   ]
  }
 ],
 "metadata": {
  "kernelspec": {
   "display_name": "Python 3 (ipykernel)",
   "language": "python",
   "name": "python3"
  },
  "language_info": {
   "codemirror_mode": {
    "name": "ipython",
    "version": 3
   },
   "file_extension": ".py",
   "mimetype": "text/x-python",
   "name": "python",
   "nbconvert_exporter": "python",
   "pygments_lexer": "ipython3",
   "version": "3.7.10"
  }
 },
 "nbformat": 4,
 "nbformat_minor": 5
}
