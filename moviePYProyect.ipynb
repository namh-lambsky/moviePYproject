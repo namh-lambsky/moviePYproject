{
 "cells": [
  {
   "cell_type": "code",
   "execution_count": null,
   "id": "9599d209-ccdb-40f7-8699-3f6ec476a240",
   "metadata": {},
   "outputs": [],
   "source": [
    "#Run me first!\n",
    "!pip install ffmpeg moviepy==1.0.3 notebook"
   ]
  },
  {
   "cell_type": "code",
   "execution_count": null,
   "id": "ac4d55dd-a5b3-451b-becc-85868f07262b",
   "metadata": {},
   "outputs": [],
   "source": [
    "#Run as soon as the first block has finished !\n",
    "from IPython.display import Video, Audio\n",
    "\n",
    "def cat_run_show (scriptname, infname, outfname):\n",
    "    %pycat {scriptname}\n",
    "    %run {scriptname} {infname} {outfname}\n",
    "    return Video(outfname,embed=True,width=680)\n"
   ]
  },
  {
   "cell_type": "code",
   "execution_count": null,
   "id": "00ba727f-0783-411f-9cda-7b82c0df39b5",
   "metadata": {},
   "outputs": [],
   "source": [
    "#video 1\n",
    "Video(\"input/Clip1.mp4\",embed=True,width=680)"
   ]
  },
  {
   "cell_type": "code",
   "execution_count": null,
   "id": "2f76ba0c-e7c4-4794-92ff-eb6877e2a18b",
   "metadata": {},
   "outputs": [],
   "source": [
    "#video 2\n",
    "Video(\"input/Clip2.mp4\",embed=True,width=680)"
   ]
  },
  {
   "cell_type": "code",
   "execution_count": null,
   "id": "4d00f0a0-5463-4a42-aac4-10467bba7989",
   "metadata": {},
   "outputs": [],
   "source": [
    "#video 1 speedup X2\n",
    "cat_run_show(\"scripts/speedup.py\",infname=\"input/Clip1.mp4\",outfname=\"output/Clip1SpeedX2.mp4\")"
   ]
  },
  {
   "cell_type": "code",
   "execution_count": null,
   "id": "fe274d09-662b-48eb-88a2-c90b6bee4293",
   "metadata": {},
   "outputs": [],
   "source": [
    "#video 2 speedup X2\n",
    "cat_run_show(\"scripts/speedup.py\",infname=\"input/Clip2.mp4\",outfname=\"output/Clip2SpeedX2.mp4\")"
   ]
  },
  {
   "cell_type": "code",
   "execution_count": null,
   "id": "f74d2362-905f-4032-aab7-edf497d4759c",
   "metadata": {},
   "outputs": [],
   "source": [
    "#video 1 with volume turned up x3.0\n",
    "cat_run_show(\"scripts/volume.py\",infname=\"input/Clip1.mp4\",outfname=\"output/Clip1VolX3.mp4\")"
   ]
  },
  {
   "cell_type": "markdown",
   "id": "34371d21-da21-43db-9cf4-97f292b2fd91",
   "metadata": {},
   "source": [
    "#video 2 with volume turned up x3.0\n",
    "cat_run_show(\"scripts/volume.py\",infname=\"input/Clip2.mp4\",outfname=\"output/Clip2VolX3.mp4\")"
   ]
  },
  {
   "cell_type": "code",
   "execution_count": null,
   "id": "b5616600-f326-471e-8983-b0e2dea87f2f",
   "metadata": {},
   "outputs": [],
   "source": [
    "#Array 1X2 first video is clip 1 in x2.0 speed and the second is clip 2 volume up x 3.0\n",
    "cat_run_show(\"scripts/stacking_withClip2VolX3.py\",infname=\"output/Clip1SpeedX2.mp4\",outfname=\"output/Clip1_Clip2_arr1X2.mp4\")"
   ]
  }
 ],
 "metadata": {
  "kernelspec": {
   "display_name": "Python 3 (ipykernel)",
   "language": "python",
   "name": "python3"
  },
  "language_info": {
   "codemirror_mode": {
    "name": "ipython",
    "version": 3
   },
   "file_extension": ".py",
   "mimetype": "text/x-python",
   "name": "python",
   "nbconvert_exporter": "python",
   "pygments_lexer": "ipython3",
   "version": "3.7.10"
  }
 },
 "nbformat": 4,
 "nbformat_minor": 5
}
